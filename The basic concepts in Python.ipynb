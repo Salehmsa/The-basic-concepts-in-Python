{
 "cells": [
  {
   "attachments": {
    "python.jpeg": {
     "image/jpeg": "[encoded data removed]"
    }
   },
   "cell_type": "markdown",
   "id": "3253ffb9",
   "metadata": {},
   "source": [
    "![python.jpeg](attachment:python.jpeg)"
   ]
  },
  {
   "cell_type": "markdown",
   "id": "e506c693",
   "metadata": {},
   "source": [
    "Python programming language is a high-level programming language that is easy to learn and use. They are designed to be easily readable and understandable and to enhance developer productivity. Here are some basic concepts in Python:"
   ]
  },
  {
   "cell_type": "markdown",
   "id": "b08168e2",
   "metadata": {},
   "source": [
    "#### 1- Variables and Strings:\n",
    "You can create variables in Python to store values, and these values can be of different types such as numbers, strings, lists, and dictionaries.\n",
    "\n",
    "Example:"
   ]
  },
  {
   "cell_type": "code",
   "execution_count": 1,
   "id": "9a672128",
   "metadata": {},
   "outputs": [],
   "source": [
    "x = 5\n",
    "name = \"John\"\n",
    "my_list = [1, 2, 3]\n",
    "my_dict = {\"key\": \"value\"}"
   ]
  },
  {
   "cell_type": "markdown",
   "id": "de836626",
   "metadata": {},
   "source": [
    "### 2-Arithmetic Operations:\n",
    "Python allows you to perform basic arithmetic operations such as addition, subtraction, multiplication, and division. The familiar mathematical symbols like +, -, *, and / are used.\n",
    "\n",
    "Example:"
   ]
  },
  {
   "cell_type": "code",
   "execution_count": 2,
   "id": "ff65241a",
   "metadata": {},
   "outputs": [],
   "source": [
    "x = 5 + 3\n",
    "y = 10 - 2\n",
    "z = 2 * 4\n",
    "w = 10 / 2"
   ]
  },
  {
   "cell_type": "markdown",
   "id": "15771f4f",
   "metadata": {},
   "source": [
    "### 3-Control Flow Statements:\n",
    "You can use control flow statements in Python to control the flow of the program. These include conditional statements (like if and else) and looping statements (like for and while).\n",
    "\n",
    "Example:"
   ]
  },
  {
   "cell_type": "code",
   "execution_count": 3,
   "id": "bf0c9093",
   "metadata": {},
   "outputs": [
    {
     "name": "stdout",
     "output_type": "stream",
     "text": [
      "The number is less than or equal to 10\n",
      "0\n",
      "1\n",
      "2\n",
      "3\n",
      "4\n",
      "5\n",
      "4\n",
      "3\n",
      "2\n",
      "1\n"
     ]
    }
   ],
   "source": [
    "x = 5\n",
    "if x > 10:\n",
    "    print(\"The number is greater than 10\")\n",
    "else:\n",
    "    print(\"The number is less than or equal to 10\")\n",
    "\n",
    "for i in range(5):\n",
    "    print(i)\n",
    "\n",
    "while x > 0:\n",
    "    print(x)\n",
    "    x -= 1"
   ]
  },
  {
   "cell_type": "markdown",
   "id": "f905f0bc",
   "metadata": {},
   "source": [
    "### 4-Functions and Modules:\n",
    "You can define your own functions in Python to organize and reuse code. You can also use built-in modules provided by Python to access additional functionality.\n",
    "\n",
    "Example:"
   ]
  },
  {
   "cell_type": "code",
   "execution_count": 4,
   "id": "306fa71e",
   "metadata": {},
   "outputs": [
    {
     "name": "stdout",
     "output_type": "stream",
     "text": [
      "Hello Ahmed\n"
     ]
    }
   ],
   "source": [
    "def greet(name):\n",
    "    print(\"Hello\", name)\n",
    "\n",
    "greet(\"Ahmed\")"
   ]
  },
  {
   "cell_type": "markdown",
   "id": "19e6f1ff",
   "metadata": {},
   "source": [
    "### 5-Lists:\n",
    "Lists allow you to store a collection of items in Python. You can access the items in a list using their index. You can also perform operations like adding a new item, removing an item, or modifying the value of an item.\n",
    "\n",
    "Example:"
   ]
  },
  {
   "cell_type": "code",
   "execution_count": 6,
   "id": "806f353f",
   "metadata": {},
   "outputs": [
    {
     "name": "stdout",
     "output_type": "stream",
     "text": [
      "1\n",
      "[1, 2, 3, 4, 5, 6]\n",
      "[1, 2, 4, 5, 6]\n"
     ]
    }
   ],
   "source": [
    "my_list = [1, 2, 3, 4, 5]\n",
    "print(my_list[0])  # Output: 1\n",
    "\n",
    "my_list.append(6)  # Add a new item\n",
    "print(my_list)  # Output: [1, 2, 3, 4, 5, 6]\n",
    "\n",
    "my_list.remove(3)  # Remove an item\n",
    "print(my_list)  # Output: [1, 2, 4, 5, 6]"
   ]
  },
  {
   "cell_type": "markdown",
   "id": "f49cb5ad",
   "metadata": {},
   "source": [
    "### 6- Dictionaries:\n",
    "Dictionaries in Python are data structures that allow you to store data in key-value pairs. You can access values by using the associated key.\n",
    "\n",
    "Example:"
   ]
  },
  {
   "cell_type": "code",
   "execution_count": 7,
   "id": "a7f95dcb",
   "metadata": {},
   "outputs": [
    {
     "name": "stdout",
     "output_type": "stream",
     "text": [
      "John\n",
      "{'name': 'John', 'age': 26, 'city': 'New York'}\n"
     ]
    }
   ],
   "source": [
    "my_dict = {\"name\": \"John\", \"age\": 25, \"city\": \"New York\"}\n",
    "print(my_dict[\"name\"])  # Output: \"John\"\n",
    "\n",
    "my_dict[\"age\"] = 26  # Change value\n",
    "print(my_dict)  # Output: {\"name\": \"John\", \"age\": 26, \"city\": \"New York\"}"
   ]
  },
  {
   "cell_type": "markdown",
   "id": "af06b889",
   "metadata": {},
   "source": [
    "### 7- Importing and Libraries:\n",
    "You can use libraries in Python to extend your capabilities and add additional functionalities to your programs. Libraries are imported using the import statement, and you can use the imported library's functions in your program.\n",
    "\n",
    "Example:"
   ]
  },
  {
   "cell_type": "code",
   "execution_count": null,
   "id": "5c4f9a59",
   "metadata": {},
   "outputs": [],
   "source": [
    "import math\n",
    "\n",
    "x = math.sqrt(16)\n",
    "print(x)  # Output: 4.0"
   ]
  },
  {
   "cell_type": "markdown",
   "id": "3f9246c6",
   "metadata": {},
   "source": [
    "These are some of the basic concepts in Python. These points serve as a brief introduction, and you can explore more details and advanced concepts in the Python language."
   ]
  },
  {
   "cell_type": "markdown",
   "id": "9f1ba212",
   "metadata": {},
   "source": [
    "### Thank You\n",
    "#### Saleh Mahbub Saleh"
   ]
  },
  {
   "attachments": {
    "python2.jpeg": {
     "image/jpeg": "[encoded data removed]"
    }
   },
   "cell_type": "markdown",
   "id": "537677f9",
   "metadata": {},
   "source": [
    "![python2.jpeg](attachment:python2.jpeg)"
   ]
  },
  {
   "cell_type": "code",
   "execution_count": null,
   "id": "74fac57e",
   "metadata": {},
   "outputs": [],
   "source": []
  }
 ],
 "metadata": {
  "kernelspec": {
   "display_name": "Python 3 (ipykernel)",
   "language": "python",
   "name": "python3"
  },
  "language_info": {
   "codemirror_mode": {
    "name": "ipython",
    "version": 3
   },
   "file_extension": ".py",
   "mimetype": "text/x-python",
   "name": "python",
   "nbconvert_exporter": "python",
   "pygments_lexer": "ipython3",
   "version": "3.9.13"
  }
 },
 "nbformat": 4,
 "nbformat_minor": 5
}
